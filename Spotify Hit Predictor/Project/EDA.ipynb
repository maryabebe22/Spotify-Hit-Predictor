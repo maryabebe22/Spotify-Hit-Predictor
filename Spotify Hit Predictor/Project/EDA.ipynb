{
 "cells": [
  {
   "cell_type": "code",
   "execution_count": 2,
   "id": "3b6782d1-abec-41ba-9d95-94c301ce268b",
   "metadata": {},
   "outputs": [],
   "source": [
    "import pandas as pd\n",
    "import numpy as np\n",
    "import matplotlib.pyplot as plt\n",
    "import seaborn as sns\n",
    "import os"
   ]
  },
  {
   "cell_type": "code",
   "execution_count": 12,
   "id": "f02d2dbd-1001-4521-8be3-f172a4ee84fd",
   "metadata": {},
   "outputs": [],
   "source": [
    "# create an empty DataFrame to store the combined data\n",
    "#combined_csv = pd.DataFrame()\n",
    "\n",
    "# set the directory path containing the CSV files\n",
    "#csv_dir = \"./data\"\n",
    "\n",
    "# loop through each CSV file in the directory\n",
    "#for file in os.listdir(csv_dir):\n",
    "    #if file.endswith(\".csv\"):\n",
    "        # read the CSV file into a DataFrame\n",
    "        #csv_path = os.path.join(csv_dir, file)\n",
    "        #csv_data = pd.read_csv(csv_path)\n",
    "        # add a column with the dataset name to the DataFrame\n",
    "        #csv_data['Year'] = file\n",
    "        \n",
    "        # append the data to the combined DataFrame\n",
    "        #combined_csv = combined_csv.append(csv_data, ignore_index=True)\n",
    "\n",
    "# write the combined data to a new CSV file\n",
    "#combined_csv.to_csv(\"./data/combined_csv.csv\", index=False)"
   ]
  },
  {
   "cell_type": "code",
   "execution_count": 3,
   "id": "0e03cff8-da29-4bda-8992-0d9fe82ac594",
   "metadata": {},
   "outputs": [],
   "source": [
    "df = pd.read_csv('./data/combined_csv.csv')"
   ]
  },
  {
   "cell_type": "code",
   "execution_count": 4,
   "id": "08b49193-f496-473d-a917-e0f1044dab84",
   "metadata": {},
   "outputs": [
    {
     "data": {
      "text/html": [
       "<div>\n",
       "<style scoped>\n",
       "    .dataframe tbody tr th:only-of-type {\n",
       "        vertical-align: middle;\n",
       "    }\n",
       "\n",
       "    .dataframe tbody tr th {\n",
       "        vertical-align: top;\n",
       "    }\n",
       "\n",
       "    .dataframe thead th {\n",
       "        text-align: right;\n",
       "    }\n",
       "</style>\n",
       "<table border=\"1\" class=\"dataframe\">\n",
       "  <thead>\n",
       "    <tr style=\"text-align: right;\">\n",
       "      <th></th>\n",
       "      <th>track</th>\n",
       "      <th>artist</th>\n",
       "      <th>uri</th>\n",
       "      <th>danceability</th>\n",
       "      <th>energy</th>\n",
       "      <th>key</th>\n",
       "      <th>loudness</th>\n",
       "      <th>mode</th>\n",
       "      <th>speechiness</th>\n",
       "      <th>acousticness</th>\n",
       "      <th>instrumentalness</th>\n",
       "      <th>liveness</th>\n",
       "      <th>valence</th>\n",
       "      <th>tempo</th>\n",
       "      <th>duration_ms</th>\n",
       "      <th>time_signature</th>\n",
       "      <th>chorus_hit</th>\n",
       "      <th>sections</th>\n",
       "      <th>target</th>\n",
       "      <th>Year</th>\n",
       "    </tr>\n",
       "  </thead>\n",
       "  <tbody>\n",
       "    <tr>\n",
       "      <th>0</th>\n",
       "      <td>Misty Roses</td>\n",
       "      <td>Astrud Gilberto</td>\n",
       "      <td>spotify:track:50RBM1j1Dw7WYmsGsWg9Tm</td>\n",
       "      <td>0.527</td>\n",
       "      <td>0.316</td>\n",
       "      <td>1</td>\n",
       "      <td>-15.769</td>\n",
       "      <td>1</td>\n",
       "      <td>0.0310</td>\n",
       "      <td>0.693000</td>\n",
       "      <td>0.00699</td>\n",
       "      <td>0.1680</td>\n",
       "      <td>0.543</td>\n",
       "      <td>116.211</td>\n",
       "      <td>158840</td>\n",
       "      <td>4</td>\n",
       "      <td>53.89523</td>\n",
       "      <td>6</td>\n",
       "      <td>0</td>\n",
       "      <td>1990.csv</td>\n",
       "    </tr>\n",
       "    <tr>\n",
       "      <th>1</th>\n",
       "      <td>Never Ever</td>\n",
       "      <td>All Saints</td>\n",
       "      <td>spotify:track:5FTz9qQ94PyUHETyAyfYZN</td>\n",
       "      <td>0.738</td>\n",
       "      <td>0.541</td>\n",
       "      <td>1</td>\n",
       "      <td>-5.485</td>\n",
       "      <td>1</td>\n",
       "      <td>0.0311</td>\n",
       "      <td>0.559000</td>\n",
       "      <td>0.00000</td>\n",
       "      <td>0.0492</td>\n",
       "      <td>0.309</td>\n",
       "      <td>134.187</td>\n",
       "      <td>387573</td>\n",
       "      <td>4</td>\n",
       "      <td>32.16853</td>\n",
       "      <td>16</td>\n",
       "      <td>1</td>\n",
       "      <td>1990.csv</td>\n",
       "    </tr>\n",
       "    <tr>\n",
       "      <th>2</th>\n",
       "      <td>Soul Sermon</td>\n",
       "      <td>Gregg Karukas</td>\n",
       "      <td>spotify:track:6m24oe3lk1UMxq9zq4iPFi</td>\n",
       "      <td>0.736</td>\n",
       "      <td>0.419</td>\n",
       "      <td>0</td>\n",
       "      <td>-10.662</td>\n",
       "      <td>1</td>\n",
       "      <td>0.0300</td>\n",
       "      <td>0.693000</td>\n",
       "      <td>0.49500</td>\n",
       "      <td>0.0809</td>\n",
       "      <td>0.265</td>\n",
       "      <td>93.982</td>\n",
       "      <td>237267</td>\n",
       "      <td>4</td>\n",
       "      <td>42.05369</td>\n",
       "      <td>9</td>\n",
       "      <td>0</td>\n",
       "      <td>1990.csv</td>\n",
       "    </tr>\n",
       "    <tr>\n",
       "      <th>3</th>\n",
       "      <td>Clarinet Marmalade - Live</td>\n",
       "      <td>Alton Purnell</td>\n",
       "      <td>spotify:track:5FOXuiLI6knVtgMUjWKj6x</td>\n",
       "      <td>0.565</td>\n",
       "      <td>0.594</td>\n",
       "      <td>5</td>\n",
       "      <td>-13.086</td>\n",
       "      <td>1</td>\n",
       "      <td>0.0646</td>\n",
       "      <td>0.655000</td>\n",
       "      <td>0.92600</td>\n",
       "      <td>0.6750</td>\n",
       "      <td>0.763</td>\n",
       "      <td>114.219</td>\n",
       "      <td>375933</td>\n",
       "      <td>4</td>\n",
       "      <td>80.99693</td>\n",
       "      <td>10</td>\n",
       "      <td>0</td>\n",
       "      <td>1990.csv</td>\n",
       "    </tr>\n",
       "    <tr>\n",
       "      <th>4</th>\n",
       "      <td>До смерті і довше - Drum &amp; Base and Rock Remix</td>\n",
       "      <td>Skryabin</td>\n",
       "      <td>spotify:track:6CxyIPTqSPvAPXfrIZczs4</td>\n",
       "      <td>0.513</td>\n",
       "      <td>0.760</td>\n",
       "      <td>4</td>\n",
       "      <td>-10.077</td>\n",
       "      <td>1</td>\n",
       "      <td>0.0355</td>\n",
       "      <td>0.000017</td>\n",
       "      <td>0.00339</td>\n",
       "      <td>0.1530</td>\n",
       "      <td>0.961</td>\n",
       "      <td>153.166</td>\n",
       "      <td>430653</td>\n",
       "      <td>4</td>\n",
       "      <td>25.57331</td>\n",
       "      <td>20</td>\n",
       "      <td>0</td>\n",
       "      <td>1990.csv</td>\n",
       "    </tr>\n",
       "  </tbody>\n",
       "</table>\n",
       "</div>"
      ],
      "text/plain": [
       "                                            track           artist  \\\n",
       "0                                     Misty Roses  Astrud Gilberto   \n",
       "1                                      Never Ever       All Saints   \n",
       "2                                     Soul Sermon    Gregg Karukas   \n",
       "3                       Clarinet Marmalade - Live    Alton Purnell   \n",
       "4  До смерті і довше - Drum & Base and Rock Remix         Skryabin   \n",
       "\n",
       "                                    uri  danceability  energy  key  loudness  \\\n",
       "0  spotify:track:50RBM1j1Dw7WYmsGsWg9Tm         0.527   0.316    1   -15.769   \n",
       "1  spotify:track:5FTz9qQ94PyUHETyAyfYZN         0.738   0.541    1    -5.485   \n",
       "2  spotify:track:6m24oe3lk1UMxq9zq4iPFi         0.736   0.419    0   -10.662   \n",
       "3  spotify:track:5FOXuiLI6knVtgMUjWKj6x         0.565   0.594    5   -13.086   \n",
       "4  spotify:track:6CxyIPTqSPvAPXfrIZczs4         0.513   0.760    4   -10.077   \n",
       "\n",
       "   mode  speechiness  acousticness  instrumentalness  liveness  valence  \\\n",
       "0     1       0.0310      0.693000           0.00699    0.1680    0.543   \n",
       "1     1       0.0311      0.559000           0.00000    0.0492    0.309   \n",
       "2     1       0.0300      0.693000           0.49500    0.0809    0.265   \n",
       "3     1       0.0646      0.655000           0.92600    0.6750    0.763   \n",
       "4     1       0.0355      0.000017           0.00339    0.1530    0.961   \n",
       "\n",
       "     tempo  duration_ms  time_signature  chorus_hit  sections  target  \\\n",
       "0  116.211       158840               4    53.89523         6       0   \n",
       "1  134.187       387573               4    32.16853        16       1   \n",
       "2   93.982       237267               4    42.05369         9       0   \n",
       "3  114.219       375933               4    80.99693        10       0   \n",
       "4  153.166       430653               4    25.57331        20       0   \n",
       "\n",
       "       Year  \n",
       "0  1990.csv  \n",
       "1  1990.csv  \n",
       "2  1990.csv  \n",
       "3  1990.csv  \n",
       "4  1990.csv  "
      ]
     },
     "execution_count": 4,
     "metadata": {},
     "output_type": "execute_result"
    }
   ],
   "source": [
    "df.head()"
   ]
  },
  {
   "cell_type": "code",
   "execution_count": 5,
   "id": "228e530a-0872-4754-b397-d53d3337b1b2",
   "metadata": {},
   "outputs": [
    {
     "data": {
      "text/html": [
       "<div>\n",
       "<style scoped>\n",
       "    .dataframe tbody tr th:only-of-type {\n",
       "        vertical-align: middle;\n",
       "    }\n",
       "\n",
       "    .dataframe tbody tr th {\n",
       "        vertical-align: top;\n",
       "    }\n",
       "\n",
       "    .dataframe thead th {\n",
       "        text-align: right;\n",
       "    }\n",
       "</style>\n",
       "<table border=\"1\" class=\"dataframe\">\n",
       "  <thead>\n",
       "    <tr style=\"text-align: right;\">\n",
       "      <th></th>\n",
       "      <th>track</th>\n",
       "      <th>artist</th>\n",
       "      <th>uri</th>\n",
       "      <th>danceability</th>\n",
       "      <th>energy</th>\n",
       "      <th>key</th>\n",
       "      <th>loudness</th>\n",
       "      <th>mode</th>\n",
       "      <th>speechiness</th>\n",
       "      <th>acousticness</th>\n",
       "      <th>instrumentalness</th>\n",
       "      <th>liveness</th>\n",
       "      <th>valence</th>\n",
       "      <th>tempo</th>\n",
       "      <th>duration_ms</th>\n",
       "      <th>time_signature</th>\n",
       "      <th>chorus_hit</th>\n",
       "      <th>sections</th>\n",
       "      <th>target</th>\n",
       "      <th>Year</th>\n",
       "    </tr>\n",
       "  </thead>\n",
       "  <tbody>\n",
       "    <tr>\n",
       "      <th>945433</th>\n",
       "      <td>Le ire di Ursus</td>\n",
       "      <td>Giampiero Boneschi</td>\n",
       "      <td>spotify:track:3dVgolCVuNgecU5jovpc45</td>\n",
       "      <td>0.420</td>\n",
       "      <td>0.8730</td>\n",
       "      <td>3</td>\n",
       "      <td>-11.689</td>\n",
       "      <td>1</td>\n",
       "      <td>0.1000</td>\n",
       "      <td>0.808</td>\n",
       "      <td>0.879000</td>\n",
       "      <td>0.363</td>\n",
       "      <td>0.183</td>\n",
       "      <td>119.821</td>\n",
       "      <td>26244</td>\n",
       "      <td>4</td>\n",
       "      <td>0.00000</td>\n",
       "      <td>2</td>\n",
       "      <td>0</td>\n",
       "      <td>1960.csv</td>\n",
       "    </tr>\n",
       "    <tr>\n",
       "      <th>945434</th>\n",
       "      <td>A-B-C</td>\n",
       "      <td>John Zacherle</td>\n",
       "      <td>spotify:track:0zXhzKf4raEYstebL7L42C</td>\n",
       "      <td>0.716</td>\n",
       "      <td>0.7420</td>\n",
       "      <td>10</td>\n",
       "      <td>-5.727</td>\n",
       "      <td>0</td>\n",
       "      <td>0.2420</td>\n",
       "      <td>0.663</td>\n",
       "      <td>0.000000</td>\n",
       "      <td>0.107</td>\n",
       "      <td>0.834</td>\n",
       "      <td>135.104</td>\n",
       "      <td>142987</td>\n",
       "      <td>4</td>\n",
       "      <td>28.34316</td>\n",
       "      <td>10</td>\n",
       "      <td>0</td>\n",
       "      <td>1960.csv</td>\n",
       "    </tr>\n",
       "    <tr>\n",
       "      <th>945435</th>\n",
       "      <td>Useless Landscape</td>\n",
       "      <td>Antônio Carlos Jobim</td>\n",
       "      <td>spotify:track:2uC02PCRVM6BhAaK7dgxxp</td>\n",
       "      <td>0.361</td>\n",
       "      <td>0.0944</td>\n",
       "      <td>10</td>\n",
       "      <td>-22.663</td>\n",
       "      <td>1</td>\n",
       "      <td>0.0327</td>\n",
       "      <td>0.940</td>\n",
       "      <td>0.000178</td>\n",
       "      <td>0.115</td>\n",
       "      <td>0.139</td>\n",
       "      <td>92.472</td>\n",
       "      <td>137200</td>\n",
       "      <td>4</td>\n",
       "      <td>56.63498</td>\n",
       "      <td>6</td>\n",
       "      <td>0</td>\n",
       "      <td>1960.csv</td>\n",
       "    </tr>\n",
       "    <tr>\n",
       "      <th>945436</th>\n",
       "      <td>Vendedor De Assaí</td>\n",
       "      <td>Ary Lobo</td>\n",
       "      <td>spotify:track:0gpSUWZWNIRrEenaC1ZGk9</td>\n",
       "      <td>0.452</td>\n",
       "      <td>0.7590</td>\n",
       "      <td>4</td>\n",
       "      <td>-7.821</td>\n",
       "      <td>0</td>\n",
       "      <td>0.1750</td>\n",
       "      <td>0.658</td>\n",
       "      <td>0.000000</td>\n",
       "      <td>0.738</td>\n",
       "      <td>0.853</td>\n",
       "      <td>137.976</td>\n",
       "      <td>159107</td>\n",
       "      <td>3</td>\n",
       "      <td>28.24372</td>\n",
       "      <td>9</td>\n",
       "      <td>0</td>\n",
       "      <td>1960.csv</td>\n",
       "    </tr>\n",
       "    <tr>\n",
       "      <th>945437</th>\n",
       "      <td>Mambo Simphony - Remasterizado</td>\n",
       "      <td>Orquesta Casino De La Playa</td>\n",
       "      <td>spotify:track:5j0G0nkCSPlmSCSgXchMn3</td>\n",
       "      <td>0.554</td>\n",
       "      <td>0.2780</td>\n",
       "      <td>5</td>\n",
       "      <td>-8.386</td>\n",
       "      <td>1</td>\n",
       "      <td>0.0349</td>\n",
       "      <td>0.928</td>\n",
       "      <td>0.922000</td>\n",
       "      <td>0.136</td>\n",
       "      <td>0.428</td>\n",
       "      <td>131.401</td>\n",
       "      <td>164227</td>\n",
       "      <td>4</td>\n",
       "      <td>37.39251</td>\n",
       "      <td>8</td>\n",
       "      <td>0</td>\n",
       "      <td>1960.csv</td>\n",
       "    </tr>\n",
       "  </tbody>\n",
       "</table>\n",
       "</div>"
      ],
      "text/plain": [
       "                                 track                       artist  \\\n",
       "945433                 Le ire di Ursus           Giampiero Boneschi   \n",
       "945434                           A-B-C                John Zacherle   \n",
       "945435               Useless Landscape         Antônio Carlos Jobim   \n",
       "945436               Vendedor De Assaí                     Ary Lobo   \n",
       "945437  Mambo Simphony - Remasterizado  Orquesta Casino De La Playa   \n",
       "\n",
       "                                         uri  danceability  energy  key  \\\n",
       "945433  spotify:track:3dVgolCVuNgecU5jovpc45         0.420  0.8730    3   \n",
       "945434  spotify:track:0zXhzKf4raEYstebL7L42C         0.716  0.7420   10   \n",
       "945435  spotify:track:2uC02PCRVM6BhAaK7dgxxp         0.361  0.0944   10   \n",
       "945436  spotify:track:0gpSUWZWNIRrEenaC1ZGk9         0.452  0.7590    4   \n",
       "945437  spotify:track:5j0G0nkCSPlmSCSgXchMn3         0.554  0.2780    5   \n",
       "\n",
       "        loudness  mode  speechiness  acousticness  instrumentalness  liveness  \\\n",
       "945433   -11.689     1       0.1000         0.808          0.879000     0.363   \n",
       "945434    -5.727     0       0.2420         0.663          0.000000     0.107   \n",
       "945435   -22.663     1       0.0327         0.940          0.000178     0.115   \n",
       "945436    -7.821     0       0.1750         0.658          0.000000     0.738   \n",
       "945437    -8.386     1       0.0349         0.928          0.922000     0.136   \n",
       "\n",
       "        valence    tempo  duration_ms  time_signature  chorus_hit  sections  \\\n",
       "945433    0.183  119.821        26244               4     0.00000         2   \n",
       "945434    0.834  135.104       142987               4    28.34316        10   \n",
       "945435    0.139   92.472       137200               4    56.63498         6   \n",
       "945436    0.853  137.976       159107               3    28.24372         9   \n",
       "945437    0.428  131.401       164227               4    37.39251         8   \n",
       "\n",
       "        target      Year  \n",
       "945433       0  1960.csv  \n",
       "945434       0  1960.csv  \n",
       "945435       0  1960.csv  \n",
       "945436       0  1960.csv  \n",
       "945437       0  1960.csv  "
      ]
     },
     "execution_count": 5,
     "metadata": {},
     "output_type": "execute_result"
    }
   ],
   "source": [
    "df.tail()"
   ]
  },
  {
   "cell_type": "code",
   "execution_count": 6,
   "id": "b6352f6b-d790-4ae1-a07e-a881c8eb24ae",
   "metadata": {},
   "outputs": [
    {
     "name": "stderr",
     "output_type": "stream",
     "text": [
      "/var/folders/xc/cty1r15d6z5gmv0xj4b8q_wr0000gn/T/ipykernel_98999/2144773996.py:1: FutureWarning: The default value of regex will change from True to False in a future version.\n",
      "  df['Year'] = df['Year'].str.replace('.csv', '')\n"
     ]
    }
   ],
   "source": [
    "df['Year'] = df['Year'].str.replace('.csv', '')"
   ]
  },
  {
   "cell_type": "code",
   "execution_count": 7,
   "id": "887a44c3-a9a4-4adb-94e0-a100e7f0e98d",
   "metadata": {},
   "outputs": [],
   "source": [
    "df = df[df['Year'] != 'combined']"
   ]
  },
  {
   "cell_type": "code",
   "execution_count": 8,
   "id": "26fb0f92-0d1e-45ce-bb26-649d74880055",
   "metadata": {},
   "outputs": [],
   "source": [
    "df = df[df['Year'] != 'final']"
   ]
  },
  {
   "cell_type": "code",
   "execution_count": 9,
   "id": "19aa55db-6332-4598-96e7-6cd0d5c095a1",
   "metadata": {},
   "outputs": [],
   "source": [
    "df['Year'] = df['Year'].astype(int)"
   ]
  },
  {
   "cell_type": "code",
   "execution_count": 10,
   "id": "94b712af-f1a5-4397-bd62-84455088b0e3",
   "metadata": {},
   "outputs": [
    {
     "data": {
      "text/plain": [
       "(41106, 20)"
      ]
     },
     "execution_count": 10,
     "metadata": {},
     "output_type": "execute_result"
    }
   ],
   "source": [
    "df.shape"
   ]
  },
  {
   "cell_type": "code",
   "execution_count": 11,
   "id": "94048544-6e70-4af3-b8f1-4ccf558311b5",
   "metadata": {},
   "outputs": [
    {
     "data": {
      "text/plain": [
       "track                object\n",
       "artist               object\n",
       "uri                  object\n",
       "danceability        float64\n",
       "energy              float64\n",
       "key                   int64\n",
       "loudness            float64\n",
       "mode                  int64\n",
       "speechiness         float64\n",
       "acousticness        float64\n",
       "instrumentalness    float64\n",
       "liveness            float64\n",
       "valence             float64\n",
       "tempo               float64\n",
       "duration_ms           int64\n",
       "time_signature        int64\n",
       "chorus_hit          float64\n",
       "sections              int64\n",
       "target                int64\n",
       "Year                  int64\n",
       "dtype: object"
      ]
     },
     "execution_count": 11,
     "metadata": {},
     "output_type": "execute_result"
    }
   ],
   "source": [
    "df.dtypes"
   ]
  },
  {
   "cell_type": "code",
   "execution_count": 12,
   "id": "0e8684c4-8dda-4bdf-a807-3d55891f8bb6",
   "metadata": {},
   "outputs": [
    {
     "data": {
      "text/plain": [
       "track               0\n",
       "artist              0\n",
       "uri                 0\n",
       "danceability        0\n",
       "energy              0\n",
       "key                 0\n",
       "loudness            0\n",
       "mode                0\n",
       "speechiness         0\n",
       "acousticness        0\n",
       "instrumentalness    0\n",
       "liveness            0\n",
       "valence             0\n",
       "tempo               0\n",
       "duration_ms         0\n",
       "time_signature      0\n",
       "chorus_hit          0\n",
       "sections            0\n",
       "target              0\n",
       "Year                0\n",
       "dtype: int64"
      ]
     },
     "execution_count": 12,
     "metadata": {},
     "output_type": "execute_result"
    }
   ],
   "source": [
    "df.isna().sum()"
   ]
  },
  {
   "cell_type": "markdown",
   "id": "250f0393-e56b-43d6-ae5e-079bd59af89c",
   "metadata": {
    "tags": []
   },
   "source": [
    "### EDA"
   ]
  },
  {
   "cell_type": "markdown",
   "id": "6b6e50f3-c49a-47be-8f3e-59889c824f71",
   "metadata": {},
   "source": [
    "#### Distribution of Song Speechiness"
   ]
  },
  {
   "cell_type": "code",
   "execution_count": 24,
   "id": "9767a9c0-a5fb-4bee-92a7-cd4ee180a4a3",
   "metadata": {},
   "outputs": [
    {
     "data": {
      "image/png": "[encoded data removed]",
      "text/plain": [
       "<Figure size 640x480 with 1 Axes>"
      ]
     },
     "metadata": {},
     "output_type": "display_data"
    }
   ],
   "source": [
    "plt.hist(df['speechiness'], bins = 20, color='#88c591')\n",
    "plt.title('Distribution of Speechiness')\n",
    "plt.xlabel('Speechiness');"
   ]
  },
  {
   "cell_type": "markdown",
   "id": "122bb861-88f2-4d13-945b-b0df27343ff2",
   "metadata": {},
   "source": [
    "#### Distribution of Song Danceability"
   ]
  },
  {
   "cell_type": "code",
   "execution_count": 25,
   "id": "cd983b8e-1f41-4f92-be1a-1eb715569ca0",
   "metadata": {},
   "outputs": [
    {
     "data": {
      "image/png": "[encoded data removed]",
      "text/plain": [
       "<Figure size 640x480 with 1 Axes>"
      ]
     },
     "metadata": {},
     "output_type": "display_data"
    }
   ],
   "source": [
    "plt.hist(df['danceability'], bins = 20, color='#88c591')\n",
    "plt.title('Distribution of Danceability')\n",
    "plt.xlabel('Danceability');"
   ]
  },
  {
   "cell_type": "markdown",
   "id": "662828f4-19f2-4c90-9176-ed596d7e5367",
   "metadata": {},
   "source": [
    "#### Distribution of Song Energy"
   ]
  },
  {
   "cell_type": "code",
   "execution_count": 26,
   "id": "3175777d-9f36-4674-a4ab-58f4e82f919c",
   "metadata": {},
   "outputs": [
    {
     "data": {
      "image/png": "[encoded data removed]",
      "text/plain": [
       "<Figure size 640x480 with 1 Axes>"
      ]
     },
     "metadata": {},
     "output_type": "display_data"
    }
   ],
   "source": [
    "plt.hist(df['energy'], bins = 20, color='#88c591')\n",
    "plt.title('Distribution of Energy')\n",
    "plt.xlabel('Energy');"
   ]
  },
  {
   "cell_type": "markdown",
   "id": "292382b2-add4-499f-ba77-0bd6cfaa351a",
   "metadata": {
    "tags": []
   },
   "source": [
    "#### Distribution of Instrumentalness"
   ]
  },
  {
   "cell_type": "code",
   "execution_count": 58,
   "id": "eae39771-423d-4a95-bff9-3047d1763f13",
   "metadata": {},
   "outputs": [
    {
     "data": {
      "image/png": "[encoded data removed]",
      "text/plain": [
       "<Figure size 640x480 with 1 Axes>"
      ]
     },
     "metadata": {},
     "output_type": "display_data"
    }
   ],
   "source": [
    "plt.hist(df['instrumentalness'], bins = 20, color='#88c591')\n",
    "plt.title('Distribution of Instrumentalness')\n",
    "plt.xlabel('Instrumentalness');"
   ]
  },
  {
   "cell_type": "code",
   "execution_count": 14,
   "id": "31e7e7ff-de91-4420-9f42-3bc825851428",
   "metadata": {},
   "outputs": [],
   "source": [
    "q1 = np.percentile(df['instrumentalness'], 25)\n",
    "q3 = np.percentile(df['instrumentalness'], 75)\n",
    "iqr = q3 - q1\n",
    "\n",
    "# Calculate the upper and lower bounds\n",
    "upper_bound = q3 + 1.5*iqr\n",
    "lower_bound = q1 - 1.5*iqr\n",
    "\n",
    "# Identify outliers\n",
    "outliers = df[(df['instrumentalness'] > upper_bound) | (df['instrumentalness'] < lower_bound)]\n"
   ]
  },
  {
   "cell_type": "code",
   "execution_count": 15,
   "id": "66c6b76e-2546-48da-a3dd-3a051b5e0148",
   "metadata": {},
   "outputs": [
    {
     "data": {
      "text/html": [
       "<div>\n",
       "<style scoped>\n",
       "    .dataframe tbody tr th:only-of-type {\n",
       "        vertical-align: middle;\n",
       "    }\n",
       "\n",
       "    .dataframe tbody tr th {\n",
       "        vertical-align: top;\n",
       "    }\n",
       "\n",
       "    .dataframe thead th {\n",
       "        text-align: right;\n",
       "    }\n",
       "</style>\n",
       "<table border=\"1\" class=\"dataframe\">\n",
       "  <thead>\n",
       "    <tr style=\"text-align: right;\">\n",
       "      <th></th>\n",
       "      <th>track</th>\n",
       "      <th>artist</th>\n",
       "      <th>uri</th>\n",
       "      <th>danceability</th>\n",
       "      <th>energy</th>\n",
       "      <th>key</th>\n",
       "      <th>loudness</th>\n",
       "      <th>mode</th>\n",
       "      <th>speechiness</th>\n",
       "      <th>acousticness</th>\n",
       "      <th>instrumentalness</th>\n",
       "      <th>liveness</th>\n",
       "      <th>valence</th>\n",
       "      <th>tempo</th>\n",
       "      <th>duration_ms</th>\n",
       "      <th>time_signature</th>\n",
       "      <th>chorus_hit</th>\n",
       "      <th>sections</th>\n",
       "      <th>target</th>\n",
       "      <th>Year</th>\n",
       "    </tr>\n",
       "  </thead>\n",
       "  <tbody>\n",
       "    <tr>\n",
       "      <th>2</th>\n",
       "      <td>Soul Sermon</td>\n",
       "      <td>Gregg Karukas</td>\n",
       "      <td>spotify:track:6m24oe3lk1UMxq9zq4iPFi</td>\n",
       "      <td>0.736</td>\n",
       "      <td>0.419</td>\n",
       "      <td>0</td>\n",
       "      <td>-10.662</td>\n",
       "      <td>1</td>\n",
       "      <td>0.0300</td>\n",
       "      <td>0.6930</td>\n",
       "      <td>0.495</td>\n",
       "      <td>0.0809</td>\n",
       "      <td>0.265</td>\n",
       "      <td>93.982</td>\n",
       "      <td>237267</td>\n",
       "      <td>4</td>\n",
       "      <td>42.05369</td>\n",
       "      <td>9</td>\n",
       "      <td>0</td>\n",
       "      <td>1990</td>\n",
       "    </tr>\n",
       "    <tr>\n",
       "      <th>3</th>\n",
       "      <td>Clarinet Marmalade - Live</td>\n",
       "      <td>Alton Purnell</td>\n",
       "      <td>spotify:track:5FOXuiLI6knVtgMUjWKj6x</td>\n",
       "      <td>0.565</td>\n",
       "      <td>0.594</td>\n",
       "      <td>5</td>\n",
       "      <td>-13.086</td>\n",
       "      <td>1</td>\n",
       "      <td>0.0646</td>\n",
       "      <td>0.6550</td>\n",
       "      <td>0.926</td>\n",
       "      <td>0.6750</td>\n",
       "      <td>0.763</td>\n",
       "      <td>114.219</td>\n",
       "      <td>375933</td>\n",
       "      <td>4</td>\n",
       "      <td>80.99693</td>\n",
       "      <td>10</td>\n",
       "      <td>0</td>\n",
       "      <td>1990</td>\n",
       "    </tr>\n",
       "    <tr>\n",
       "      <th>5</th>\n",
       "      <td>Cuspa Cerveja...</td>\n",
       "      <td>Os Pedrero</td>\n",
       "      <td>spotify:track:6IYGvJanVieBEtJaO4IGfc</td>\n",
       "      <td>0.166</td>\n",
       "      <td>0.985</td>\n",
       "      <td>2</td>\n",
       "      <td>-4.529</td>\n",
       "      <td>1</td>\n",
       "      <td>0.1190</td>\n",
       "      <td>0.1470</td>\n",
       "      <td>0.179</td>\n",
       "      <td>0.5400</td>\n",
       "      <td>0.609</td>\n",
       "      <td>170.045</td>\n",
       "      <td>65667</td>\n",
       "      <td>4</td>\n",
       "      <td>28.13311</td>\n",
       "      <td>4</td>\n",
       "      <td>0</td>\n",
       "      <td>1990</td>\n",
       "    </tr>\n",
       "    <tr>\n",
       "      <th>22</th>\n",
       "      <td>Lo Mejor del Rock N' Roll</td>\n",
       "      <td>Expulsados</td>\n",
       "      <td>spotify:track:5nd5ZnTvznukaV2Hcesc09</td>\n",
       "      <td>0.273</td>\n",
       "      <td>0.824</td>\n",
       "      <td>2</td>\n",
       "      <td>-4.981</td>\n",
       "      <td>1</td>\n",
       "      <td>0.0742</td>\n",
       "      <td>0.0153</td>\n",
       "      <td>0.322</td>\n",
       "      <td>0.1120</td>\n",
       "      <td>0.777</td>\n",
       "      <td>185.664</td>\n",
       "      <td>153360</td>\n",
       "      <td>4</td>\n",
       "      <td>24.11872</td>\n",
       "      <td>7</td>\n",
       "      <td>0</td>\n",
       "      <td>1990</td>\n",
       "    </tr>\n",
       "    <tr>\n",
       "      <th>24</th>\n",
       "      <td>A Life of Possibilities</td>\n",
       "      <td>Dismemberment Plan</td>\n",
       "      <td>spotify:track:3TKWCQMU7xYEEslFXsj51i</td>\n",
       "      <td>0.709</td>\n",
       "      <td>0.837</td>\n",
       "      <td>7</td>\n",
       "      <td>-7.273</td>\n",
       "      <td>1</td>\n",
       "      <td>0.0779</td>\n",
       "      <td>0.1010</td>\n",
       "      <td>0.511</td>\n",
       "      <td>0.1140</td>\n",
       "      <td>0.502</td>\n",
       "      <td>125.485</td>\n",
       "      <td>274720</td>\n",
       "      <td>4</td>\n",
       "      <td>40.24415</td>\n",
       "      <td>9</td>\n",
       "      <td>0</td>\n",
       "      <td>1990</td>\n",
       "    </tr>\n",
       "  </tbody>\n",
       "</table>\n",
       "</div>"
      ],
      "text/plain": [
       "                        track              artist  \\\n",
       "2                 Soul Sermon       Gregg Karukas   \n",
       "3   Clarinet Marmalade - Live       Alton Purnell   \n",
       "5            Cuspa Cerveja...          Os Pedrero   \n",
       "22  Lo Mejor del Rock N' Roll          Expulsados   \n",
       "24    A Life of Possibilities  Dismemberment Plan   \n",
       "\n",
       "                                     uri  danceability  energy  key  loudness  \\\n",
       "2   spotify:track:6m24oe3lk1UMxq9zq4iPFi         0.736   0.419    0   -10.662   \n",
       "3   spotify:track:5FOXuiLI6knVtgMUjWKj6x         0.565   0.594    5   -13.086   \n",
       "5   spotify:track:6IYGvJanVieBEtJaO4IGfc         0.166   0.985    2    -4.529   \n",
       "22  spotify:track:5nd5ZnTvznukaV2Hcesc09         0.273   0.824    2    -4.981   \n",
       "24  spotify:track:3TKWCQMU7xYEEslFXsj51i         0.709   0.837    7    -7.273   \n",
       "\n",
       "    mode  speechiness  acousticness  instrumentalness  liveness  valence  \\\n",
       "2      1       0.0300        0.6930             0.495    0.0809    0.265   \n",
       "3      1       0.0646        0.6550             0.926    0.6750    0.763   \n",
       "5      1       0.1190        0.1470             0.179    0.5400    0.609   \n",
       "22     1       0.0742        0.0153             0.322    0.1120    0.777   \n",
       "24     1       0.0779        0.1010             0.511    0.1140    0.502   \n",
       "\n",
       "      tempo  duration_ms  time_signature  chorus_hit  sections  target  Year  \n",
       "2    93.982       237267               4    42.05369         9       0  1990  \n",
       "3   114.219       375933               4    80.99693        10       0  1990  \n",
       "5   170.045        65667               4    28.13311         4       0  1990  \n",
       "22  185.664       153360               4    24.11872         7       0  1990  \n",
       "24  125.485       274720               4    40.24415         9       0  1990  "
      ]
     },
     "execution_count": 15,
     "metadata": {},
     "output_type": "execute_result"
    }
   ],
   "source": [
    "outliers.head()"
   ]
  },
  {
   "cell_type": "markdown",
   "id": "9b06a77b-5d65-49ab-baaa-ce5a85b7a9de",
   "metadata": {
    "tags": []
   },
   "source": [
    "### Saving Cleaned table to final CSV"
   ]
  },
  {
   "cell_type": "code",
   "execution_count": null,
   "id": "7445995c-3d48-4e61-84b7-35e4ee00aab7",
   "metadata": {},
   "outputs": [],
   "source": [
    "df.to_csv('./data/final.csv', index=False)"
   ]
  }
 ],
 "metadata": {
  "kernelspec": {
   "display_name": "Python 3 (ipykernel)",
   "language": "python",
   "name": "python3"
  },
  "language_info": {
   "codemirror_mode": {
    "name": "ipython",
    "version": 3
   },
   "file_extension": ".py",
   "mimetype": "text/x-python",
   "name": "python",
   "nbconvert_exporter": "python",
   "pygments_lexer": "ipython3",
   "version": "3.9.13"
  }
 },
 "nbformat": 4,
 "nbformat_minor": 5
}
