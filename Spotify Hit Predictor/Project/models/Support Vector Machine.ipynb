{
 "cells": [
  {
   "cell_type": "code",
   "execution_count": 17,
   "id": "2cacbf19-d55b-43f2-91d9-dcb7c590bd25",
   "metadata": {},
   "outputs": [],
   "source": [
    "import numpy as np\n",
    "import pandas as pd\n",
    "import matplotlib.pyplot as plt\n",
    "\n",
    "from sklearn.preprocessing import StandardScaler\n",
    "from sklearn.model_selection import GridSearchCV, train_test_split, StratifiedKFold\n",
    "\n",
    "from sklearn.svm import LinearSVC, SVC\n",
    "from sklearn import datasets\n",
    "from sklearn.metrics import accuracy_score"
   ]
  },
  {
   "cell_type": "markdown",
   "id": "1a4ed694-1811-4297-9dde-214c64f80dd7",
   "metadata": {},
   "source": [
    "## Read in Data"
   ]
  },
  {
   "cell_type": "code",
   "execution_count": 2,
   "id": "4c7cd2db-5a70-41ae-b16f-eb1374650e9e",
   "metadata": {},
   "outputs": [],
   "source": [
    "df = pd.read_csv('./data/final.csv')"
   ]
  },
  {
   "cell_type": "code",
   "execution_count": 3,
   "id": "6dfb8d9d-3809-492d-a0f4-3c849be73625",
   "metadata": {},
   "outputs": [
    {
     "data": {
      "text/html": [
       "<div>\n",
       "<style scoped>\n",
       "    .dataframe tbody tr th:only-of-type {\n",
       "        vertical-align: middle;\n",
       "    }\n",
       "\n",
       "    .dataframe tbody tr th {\n",
       "        vertical-align: top;\n",
       "    }\n",
       "\n",
       "    .dataframe thead th {\n",
       "        text-align: right;\n",
       "    }\n",
       "</style>\n",
       "<table border=\"1\" class=\"dataframe\">\n",
       "  <thead>\n",
       "    <tr style=\"text-align: right;\">\n",
       "      <th></th>\n",
       "      <th>track</th>\n",
       "      <th>artist</th>\n",
       "      <th>uri</th>\n",
       "      <th>danceability</th>\n",
       "      <th>energy</th>\n",
       "      <th>key</th>\n",
       "      <th>loudness</th>\n",
       "      <th>mode</th>\n",
       "      <th>speechiness</th>\n",
       "      <th>acousticness</th>\n",
       "      <th>instrumentalness</th>\n",
       "      <th>liveness</th>\n",
       "      <th>valence</th>\n",
       "      <th>tempo</th>\n",
       "      <th>duration_ms</th>\n",
       "      <th>time_signature</th>\n",
       "      <th>chorus_hit</th>\n",
       "      <th>sections</th>\n",
       "      <th>target</th>\n",
       "      <th>Year</th>\n",
       "    </tr>\n",
       "  </thead>\n",
       "  <tbody>\n",
       "    <tr>\n",
       "      <th>0</th>\n",
       "      <td>Misty Roses</td>\n",
       "      <td>Astrud Gilberto</td>\n",
       "      <td>spotify:track:50RBM1j1Dw7WYmsGsWg9Tm</td>\n",
       "      <td>0.527</td>\n",
       "      <td>0.316</td>\n",
       "      <td>1</td>\n",
       "      <td>-15.769</td>\n",
       "      <td>1</td>\n",
       "      <td>0.0310</td>\n",
       "      <td>0.693000</td>\n",
       "      <td>0.00699</td>\n",
       "      <td>0.1680</td>\n",
       "      <td>0.543</td>\n",
       "      <td>116.211</td>\n",
       "      <td>158840</td>\n",
       "      <td>4</td>\n",
       "      <td>53.89523</td>\n",
       "      <td>6</td>\n",
       "      <td>0</td>\n",
       "      <td>1990.0</td>\n",
       "    </tr>\n",
       "    <tr>\n",
       "      <th>1</th>\n",
       "      <td>Never Ever</td>\n",
       "      <td>All Saints</td>\n",
       "      <td>spotify:track:5FTz9qQ94PyUHETyAyfYZN</td>\n",
       "      <td>0.738</td>\n",
       "      <td>0.541</td>\n",
       "      <td>1</td>\n",
       "      <td>-5.485</td>\n",
       "      <td>1</td>\n",
       "      <td>0.0311</td>\n",
       "      <td>0.559000</td>\n",
       "      <td>0.00000</td>\n",
       "      <td>0.0492</td>\n",
       "      <td>0.309</td>\n",
       "      <td>134.187</td>\n",
       "      <td>387573</td>\n",
       "      <td>4</td>\n",
       "      <td>32.16853</td>\n",
       "      <td>16</td>\n",
       "      <td>1</td>\n",
       "      <td>1990.0</td>\n",
       "    </tr>\n",
       "    <tr>\n",
       "      <th>2</th>\n",
       "      <td>Soul Sermon</td>\n",
       "      <td>Gregg Karukas</td>\n",
       "      <td>spotify:track:6m24oe3lk1UMxq9zq4iPFi</td>\n",
       "      <td>0.736</td>\n",
       "      <td>0.419</td>\n",
       "      <td>0</td>\n",
       "      <td>-10.662</td>\n",
       "      <td>1</td>\n",
       "      <td>0.0300</td>\n",
       "      <td>0.693000</td>\n",
       "      <td>0.49500</td>\n",
       "      <td>0.0809</td>\n",
       "      <td>0.265</td>\n",
       "      <td>93.982</td>\n",
       "      <td>237267</td>\n",
       "      <td>4</td>\n",
       "      <td>42.05369</td>\n",
       "      <td>9</td>\n",
       "      <td>0</td>\n",
       "      <td>1990.0</td>\n",
       "    </tr>\n",
       "    <tr>\n",
       "      <th>3</th>\n",
       "      <td>Clarinet Marmalade - Live</td>\n",
       "      <td>Alton Purnell</td>\n",
       "      <td>spotify:track:5FOXuiLI6knVtgMUjWKj6x</td>\n",
       "      <td>0.565</td>\n",
       "      <td>0.594</td>\n",
       "      <td>5</td>\n",
       "      <td>-13.086</td>\n",
       "      <td>1</td>\n",
       "      <td>0.0646</td>\n",
       "      <td>0.655000</td>\n",
       "      <td>0.92600</td>\n",
       "      <td>0.6750</td>\n",
       "      <td>0.763</td>\n",
       "      <td>114.219</td>\n",
       "      <td>375933</td>\n",
       "      <td>4</td>\n",
       "      <td>80.99693</td>\n",
       "      <td>10</td>\n",
       "      <td>0</td>\n",
       "      <td>1990.0</td>\n",
       "    </tr>\n",
       "    <tr>\n",
       "      <th>4</th>\n",
       "      <td>До смерті і довше - Drum &amp; Base and Rock Remix</td>\n",
       "      <td>Skryabin</td>\n",
       "      <td>spotify:track:6CxyIPTqSPvAPXfrIZczs4</td>\n",
       "      <td>0.513</td>\n",
       "      <td>0.760</td>\n",
       "      <td>4</td>\n",
       "      <td>-10.077</td>\n",
       "      <td>1</td>\n",
       "      <td>0.0355</td>\n",
       "      <td>0.000017</td>\n",
       "      <td>0.00339</td>\n",
       "      <td>0.1530</td>\n",
       "      <td>0.961</td>\n",
       "      <td>153.166</td>\n",
       "      <td>430653</td>\n",
       "      <td>4</td>\n",
       "      <td>25.57331</td>\n",
       "      <td>20</td>\n",
       "      <td>0</td>\n",
       "      <td>1990.0</td>\n",
       "    </tr>\n",
       "  </tbody>\n",
       "</table>\n",
       "</div>"
      ],
      "text/plain": [
       "                                            track           artist  \\\n",
       "0                                     Misty Roses  Astrud Gilberto   \n",
       "1                                      Never Ever       All Saints   \n",
       "2                                     Soul Sermon    Gregg Karukas   \n",
       "3                       Clarinet Marmalade - Live    Alton Purnell   \n",
       "4  До смерті і довше - Drum & Base and Rock Remix         Skryabin   \n",
       "\n",
       "                                    uri  danceability  energy  key  loudness  \\\n",
       "0  spotify:track:50RBM1j1Dw7WYmsGsWg9Tm         0.527   0.316    1   -15.769   \n",
       "1  spotify:track:5FTz9qQ94PyUHETyAyfYZN         0.738   0.541    1    -5.485   \n",
       "2  spotify:track:6m24oe3lk1UMxq9zq4iPFi         0.736   0.419    0   -10.662   \n",
       "3  spotify:track:5FOXuiLI6knVtgMUjWKj6x         0.565   0.594    5   -13.086   \n",
       "4  spotify:track:6CxyIPTqSPvAPXfrIZczs4         0.513   0.760    4   -10.077   \n",
       "\n",
       "   mode  speechiness  acousticness  instrumentalness  liveness  valence  \\\n",
       "0     1       0.0310      0.693000           0.00699    0.1680    0.543   \n",
       "1     1       0.0311      0.559000           0.00000    0.0492    0.309   \n",
       "2     1       0.0300      0.693000           0.49500    0.0809    0.265   \n",
       "3     1       0.0646      0.655000           0.92600    0.6750    0.763   \n",
       "4     1       0.0355      0.000017           0.00339    0.1530    0.961   \n",
       "\n",
       "     tempo  duration_ms  time_signature  chorus_hit  sections  target    Year  \n",
       "0  116.211       158840               4    53.89523         6       0  1990.0  \n",
       "1  134.187       387573               4    32.16853        16       1  1990.0  \n",
       "2   93.982       237267               4    42.05369         9       0  1990.0  \n",
       "3  114.219       375933               4    80.99693        10       0  1990.0  \n",
       "4  153.166       430653               4    25.57331        20       0  1990.0  "
      ]
     },
     "execution_count": 3,
     "metadata": {},
     "output_type": "execute_result"
    }
   ],
   "source": [
    "df.head()"
   ]
  },
  {
   "cell_type": "markdown",
   "id": "1e0eb120-e33b-4370-ac86-b2c1dfd0d2ff",
   "metadata": {},
   "source": [
    "## Read in Data"
   ]
  },
  {
   "cell_type": "code",
   "execution_count": 4,
   "id": "4834698e-7a4f-4acd-97e9-e178be57036b",
   "metadata": {},
   "outputs": [],
   "source": [
    "df = pd.read_csv('./data/final.csv')"
   ]
  },
  {
   "cell_type": "code",
   "execution_count": 5,
   "id": "259ab420-bf66-469a-b619-e69bfb57175e",
   "metadata": {},
   "outputs": [
    {
     "data": {
      "text/html": [
       "<div>\n",
       "<style scoped>\n",
       "    .dataframe tbody tr th:only-of-type {\n",
       "        vertical-align: middle;\n",
       "    }\n",
       "\n",
       "    .dataframe tbody tr th {\n",
       "        vertical-align: top;\n",
       "    }\n",
       "\n",
       "    .dataframe thead th {\n",
       "        text-align: right;\n",
       "    }\n",
       "</style>\n",
       "<table border=\"1\" class=\"dataframe\">\n",
       "  <thead>\n",
       "    <tr style=\"text-align: right;\">\n",
       "      <th></th>\n",
       "      <th>track</th>\n",
       "      <th>artist</th>\n",
       "      <th>uri</th>\n",
       "      <th>danceability</th>\n",
       "      <th>energy</th>\n",
       "      <th>key</th>\n",
       "      <th>loudness</th>\n",
       "      <th>mode</th>\n",
       "      <th>speechiness</th>\n",
       "      <th>acousticness</th>\n",
       "      <th>instrumentalness</th>\n",
       "      <th>liveness</th>\n",
       "      <th>valence</th>\n",
       "      <th>tempo</th>\n",
       "      <th>duration_ms</th>\n",
       "      <th>time_signature</th>\n",
       "      <th>chorus_hit</th>\n",
       "      <th>sections</th>\n",
       "      <th>target</th>\n",
       "      <th>Year</th>\n",
       "    </tr>\n",
       "  </thead>\n",
       "  <tbody>\n",
       "    <tr>\n",
       "      <th>0</th>\n",
       "      <td>Misty Roses</td>\n",
       "      <td>Astrud Gilberto</td>\n",
       "      <td>spotify:track:50RBM1j1Dw7WYmsGsWg9Tm</td>\n",
       "      <td>0.527</td>\n",
       "      <td>0.316</td>\n",
       "      <td>1</td>\n",
       "      <td>-15.769</td>\n",
       "      <td>1</td>\n",
       "      <td>0.0310</td>\n",
       "      <td>0.693000</td>\n",
       "      <td>0.00699</td>\n",
       "      <td>0.1680</td>\n",
       "      <td>0.543</td>\n",
       "      <td>116.211</td>\n",
       "      <td>158840</td>\n",
       "      <td>4</td>\n",
       "      <td>53.89523</td>\n",
       "      <td>6</td>\n",
       "      <td>0</td>\n",
       "      <td>1990.0</td>\n",
       "    </tr>\n",
       "    <tr>\n",
       "      <th>1</th>\n",
       "      <td>Never Ever</td>\n",
       "      <td>All Saints</td>\n",
       "      <td>spotify:track:5FTz9qQ94PyUHETyAyfYZN</td>\n",
       "      <td>0.738</td>\n",
       "      <td>0.541</td>\n",
       "      <td>1</td>\n",
       "      <td>-5.485</td>\n",
       "      <td>1</td>\n",
       "      <td>0.0311</td>\n",
       "      <td>0.559000</td>\n",
       "      <td>0.00000</td>\n",
       "      <td>0.0492</td>\n",
       "      <td>0.309</td>\n",
       "      <td>134.187</td>\n",
       "      <td>387573</td>\n",
       "      <td>4</td>\n",
       "      <td>32.16853</td>\n",
       "      <td>16</td>\n",
       "      <td>1</td>\n",
       "      <td>1990.0</td>\n",
       "    </tr>\n",
       "    <tr>\n",
       "      <th>2</th>\n",
       "      <td>Soul Sermon</td>\n",
       "      <td>Gregg Karukas</td>\n",
       "      <td>spotify:track:6m24oe3lk1UMxq9zq4iPFi</td>\n",
       "      <td>0.736</td>\n",
       "      <td>0.419</td>\n",
       "      <td>0</td>\n",
       "      <td>-10.662</td>\n",
       "      <td>1</td>\n",
       "      <td>0.0300</td>\n",
       "      <td>0.693000</td>\n",
       "      <td>0.49500</td>\n",
       "      <td>0.0809</td>\n",
       "      <td>0.265</td>\n",
       "      <td>93.982</td>\n",
       "      <td>237267</td>\n",
       "      <td>4</td>\n",
       "      <td>42.05369</td>\n",
       "      <td>9</td>\n",
       "      <td>0</td>\n",
       "      <td>1990.0</td>\n",
       "    </tr>\n",
       "    <tr>\n",
       "      <th>3</th>\n",
       "      <td>Clarinet Marmalade - Live</td>\n",
       "      <td>Alton Purnell</td>\n",
       "      <td>spotify:track:5FOXuiLI6knVtgMUjWKj6x</td>\n",
       "      <td>0.565</td>\n",
       "      <td>0.594</td>\n",
       "      <td>5</td>\n",
       "      <td>-13.086</td>\n",
       "      <td>1</td>\n",
       "      <td>0.0646</td>\n",
       "      <td>0.655000</td>\n",
       "      <td>0.92600</td>\n",
       "      <td>0.6750</td>\n",
       "      <td>0.763</td>\n",
       "      <td>114.219</td>\n",
       "      <td>375933</td>\n",
       "      <td>4</td>\n",
       "      <td>80.99693</td>\n",
       "      <td>10</td>\n",
       "      <td>0</td>\n",
       "      <td>1990.0</td>\n",
       "    </tr>\n",
       "    <tr>\n",
       "      <th>4</th>\n",
       "      <td>До смерті і довше - Drum &amp; Base and Rock Remix</td>\n",
       "      <td>Skryabin</td>\n",
       "      <td>spotify:track:6CxyIPTqSPvAPXfrIZczs4</td>\n",
       "      <td>0.513</td>\n",
       "      <td>0.760</td>\n",
       "      <td>4</td>\n",
       "      <td>-10.077</td>\n",
       "      <td>1</td>\n",
       "      <td>0.0355</td>\n",
       "      <td>0.000017</td>\n",
       "      <td>0.00339</td>\n",
       "      <td>0.1530</td>\n",
       "      <td>0.961</td>\n",
       "      <td>153.166</td>\n",
       "      <td>430653</td>\n",
       "      <td>4</td>\n",
       "      <td>25.57331</td>\n",
       "      <td>20</td>\n",
       "      <td>0</td>\n",
       "      <td>1990.0</td>\n",
       "    </tr>\n",
       "  </tbody>\n",
       "</table>\n",
       "</div>"
      ],
      "text/plain": [
       "                                            track           artist  \\\n",
       "0                                     Misty Roses  Astrud Gilberto   \n",
       "1                                      Never Ever       All Saints   \n",
       "2                                     Soul Sermon    Gregg Karukas   \n",
       "3                       Clarinet Marmalade - Live    Alton Purnell   \n",
       "4  До смерті і довше - Drum & Base and Rock Remix         Skryabin   \n",
       "\n",
       "                                    uri  danceability  energy  key  loudness  \\\n",
       "0  spotify:track:50RBM1j1Dw7WYmsGsWg9Tm         0.527   0.316    1   -15.769   \n",
       "1  spotify:track:5FTz9qQ94PyUHETyAyfYZN         0.738   0.541    1    -5.485   \n",
       "2  spotify:track:6m24oe3lk1UMxq9zq4iPFi         0.736   0.419    0   -10.662   \n",
       "3  spotify:track:5FOXuiLI6knVtgMUjWKj6x         0.565   0.594    5   -13.086   \n",
       "4  spotify:track:6CxyIPTqSPvAPXfrIZczs4         0.513   0.760    4   -10.077   \n",
       "\n",
       "   mode  speechiness  acousticness  instrumentalness  liveness  valence  \\\n",
       "0     1       0.0310      0.693000           0.00699    0.1680    0.543   \n",
       "1     1       0.0311      0.559000           0.00000    0.0492    0.309   \n",
       "2     1       0.0300      0.693000           0.49500    0.0809    0.265   \n",
       "3     1       0.0646      0.655000           0.92600    0.6750    0.763   \n",
       "4     1       0.0355      0.000017           0.00339    0.1530    0.961   \n",
       "\n",
       "     tempo  duration_ms  time_signature  chorus_hit  sections  target    Year  \n",
       "0  116.211       158840               4    53.89523         6       0  1990.0  \n",
       "1  134.187       387573               4    32.16853        16       1  1990.0  \n",
       "2   93.982       237267               4    42.05369         9       0  1990.0  \n",
       "3  114.219       375933               4    80.99693        10       0  1990.0  \n",
       "4  153.166       430653               4    25.57331        20       0  1990.0  "
      ]
     },
     "execution_count": 5,
     "metadata": {},
     "output_type": "execute_result"
    }
   ],
   "source": [
    "df.head()"
   ]
  },
  {
   "cell_type": "markdown",
   "id": "fb7ad4fa-2c70-41c9-9780-f85cb2bf2cb8",
   "metadata": {},
   "source": [
    "## Train-Test-Split"
   ]
  },
  {
   "cell_type": "code",
   "execution_count": 6,
   "id": "fcdabb6e-9c2f-467b-844e-37e7b5b226cb",
   "metadata": {},
   "outputs": [],
   "source": [
    "X = df.drop(columns = ['track', 'artist', 'uri', 'target'])\n",
    "y = df['target']\n",
    "sc = StandardScaler()\n",
    "X = sc.fit_transform(X)"
   ]
  },
  {
   "cell_type": "code",
   "execution_count": 7,
   "id": "6b68a8d3-26ea-474a-a061-717ee416a0db",
   "metadata": {},
   "outputs": [],
   "source": [
    "X_train, X_test, y_train, y_test = train_test_split(X, y, test_size=0.2, random_state=42)"
   ]
  },
  {
   "cell_type": "code",
   "execution_count": 8,
   "id": "a3fb40a1-0e86-4c1b-ad61-9a3a455e8fe5",
   "metadata": {},
   "outputs": [],
   "source": [
    "pgrid = {\"C\": np.linspace(0.0001, 2, 10)}"
   ]
  },
  {
   "cell_type": "code",
   "execution_count": 9,
   "id": "ba01c423-7407-40b9-b1bf-d009f9afa543",
   "metadata": {},
   "outputs": [
    {
     "name": "stderr",
     "output_type": "stream",
     "text": [
      "/Users/pomi/opt/anaconda3/lib/python3.9/site-packages/sklearn/svm/_base.py:1206: ConvergenceWarning: Liblinear failed to converge, increase the number of iterations.\n",
      "  warnings.warn(\n",
      "/Users/pomi/opt/anaconda3/lib/python3.9/site-packages/sklearn/svm/_base.py:1206: ConvergenceWarning: Liblinear failed to converge, increase the number of iterations.\n",
      "  warnings.warn(\n",
      "/Users/pomi/opt/anaconda3/lib/python3.9/site-packages/sklearn/svm/_base.py:1206: ConvergenceWarning: Liblinear failed to converge, increase the number of iterations.\n",
      "  warnings.warn(\n",
      "/Users/pomi/opt/anaconda3/lib/python3.9/site-packages/sklearn/svm/_base.py:1206: ConvergenceWarning: Liblinear failed to converge, increase the number of iterations.\n",
      "  warnings.warn(\n",
      "/Users/pomi/opt/anaconda3/lib/python3.9/site-packages/sklearn/svm/_base.py:1206: ConvergenceWarning: Liblinear failed to converge, increase the number of iterations.\n",
      "  warnings.warn(\n",
      "/Users/pomi/opt/anaconda3/lib/python3.9/site-packages/sklearn/svm/_base.py:1206: ConvergenceWarning: Liblinear failed to converge, increase the number of iterations.\n",
      "  warnings.warn(\n",
      "/Users/pomi/opt/anaconda3/lib/python3.9/site-packages/sklearn/svm/_base.py:1206: ConvergenceWarning: Liblinear failed to converge, increase the number of iterations.\n",
      "  warnings.warn(\n",
      "/Users/pomi/opt/anaconda3/lib/python3.9/site-packages/sklearn/svm/_base.py:1206: ConvergenceWarning: Liblinear failed to converge, increase the number of iterations.\n",
      "  warnings.warn(\n",
      "/Users/pomi/opt/anaconda3/lib/python3.9/site-packages/sklearn/svm/_base.py:1206: ConvergenceWarning: Liblinear failed to converge, increase the number of iterations.\n",
      "  warnings.warn(\n",
      "/Users/pomi/opt/anaconda3/lib/python3.9/site-packages/sklearn/svm/_base.py:1206: ConvergenceWarning: Liblinear failed to converge, increase the number of iterations.\n",
      "  warnings.warn(\n",
      "/Users/pomi/opt/anaconda3/lib/python3.9/site-packages/sklearn/svm/_base.py:1206: ConvergenceWarning: Liblinear failed to converge, increase the number of iterations.\n",
      "  warnings.warn(\n",
      "/Users/pomi/opt/anaconda3/lib/python3.9/site-packages/sklearn/svm/_base.py:1206: ConvergenceWarning: Liblinear failed to converge, increase the number of iterations.\n",
      "  warnings.warn(\n",
      "/Users/pomi/opt/anaconda3/lib/python3.9/site-packages/sklearn/svm/_base.py:1206: ConvergenceWarning: Liblinear failed to converge, increase the number of iterations.\n",
      "  warnings.warn(\n",
      "/Users/pomi/opt/anaconda3/lib/python3.9/site-packages/sklearn/svm/_base.py:1206: ConvergenceWarning: Liblinear failed to converge, increase the number of iterations.\n",
      "  warnings.warn(\n",
      "/Users/pomi/opt/anaconda3/lib/python3.9/site-packages/sklearn/svm/_base.py:1206: ConvergenceWarning: Liblinear failed to converge, increase the number of iterations.\n",
      "  warnings.warn(\n",
      "/Users/pomi/opt/anaconda3/lib/python3.9/site-packages/sklearn/svm/_base.py:1206: ConvergenceWarning: Liblinear failed to converge, increase the number of iterations.\n",
      "  warnings.warn(\n",
      "/Users/pomi/opt/anaconda3/lib/python3.9/site-packages/sklearn/svm/_base.py:1206: ConvergenceWarning: Liblinear failed to converge, increase the number of iterations.\n",
      "  warnings.warn(\n",
      "/Users/pomi/opt/anaconda3/lib/python3.9/site-packages/sklearn/svm/_base.py:1206: ConvergenceWarning: Liblinear failed to converge, increase the number of iterations.\n",
      "  warnings.warn(\n"
     ]
    }
   ],
   "source": [
    "svc = LinearSVC(max_iter=20000)\n",
    "\n",
    "cv = StratifiedKFold(n_splits=5, shuffle=True, random_state=42)\n",
    "\n",
    "gcv = GridSearchCV(svc, pgrid, cv=cv)\n",
    "gcv.fit(X, y);"
   ]
  },
  {
   "cell_type": "code",
   "execution_count": 10,
   "id": "1346d509-d1f9-488f-a19c-2f45f4240df5",
   "metadata": {},
   "outputs": [
    {
     "data": {
      "text/plain": [
       "0.7396484361072443"
      ]
     },
     "execution_count": 10,
     "metadata": {},
     "output_type": "execute_result"
    }
   ],
   "source": [
    "gcv.best_score_"
   ]
  },
  {
   "cell_type": "code",
   "execution_count": 11,
   "id": "3992bf10-ea6f-40be-be23-84039dbaf5dd",
   "metadata": {},
   "outputs": [
    {
     "data": {
      "text/plain": [
       "{'C': 0.2223111111111111}"
      ]
     },
     "execution_count": 11,
     "metadata": {},
     "output_type": "execute_result"
    }
   ],
   "source": [
    "gcv.best_params_"
   ]
  },
  {
   "cell_type": "code",
   "execution_count": 12,
   "id": "9735221a-64bf-4677-90e2-7cf8551fc70c",
   "metadata": {},
   "outputs": [],
   "source": [
    "df = pd.DataFrame(gcv.cv_results_)"
   ]
  },
  {
   "cell_type": "code",
   "execution_count": 13,
   "id": "001d01e0-ce56-43aa-ae87-89f1b09b23d8",
   "metadata": {},
   "outputs": [
    {
     "data": {
      "image/png": "[encoded data removed]",
      "text/plain": [
       "<Figure size 640x480 with 1 Axes>"
      ]
     },
     "metadata": {},
     "output_type": "display_data"
    }
   ],
   "source": [
    "plt.plot(df.param_C, df.mean_test_score);"
   ]
  },
  {
   "cell_type": "code",
   "execution_count": 15,
   "id": "7c102823-789c-40db-ab9d-ff9abb9cbd92",
   "metadata": {},
   "outputs": [],
   "source": [
    "pred = gcv.predict(X_test)"
   ]
  },
  {
   "cell_type": "code",
   "execution_count": 18,
   "id": "9c4297f8-3742-4a29-a28e-8ff7198ec20b",
   "metadata": {},
   "outputs": [
    {
     "name": "stdout",
     "output_type": "stream",
     "text": [
      "Accuracy: 73.98%\n"
     ]
    }
   ],
   "source": [
    "accuracy = accuracy_score(y_test, pred)\n",
    "\n",
    "print(\"Accuracy: {:.2f}%\".format(accuracy*100))"
   ]
  }
 ],
 "metadata": {
  "kernelspec": {
   "display_name": "Python 3 (ipykernel)",
   "language": "python",
   "name": "python3"
  },
  "language_info": {
   "codemirror_mode": {
    "name": "ipython",
    "version": 3
   },
   "file_extension": ".py",
   "mimetype": "text/x-python",
   "name": "python",
   "nbconvert_exporter": "python",
   "pygments_lexer": "ipython3",
   "version": "3.9.13"
  }
 },
 "nbformat": 4,
 "nbformat_minor": 5
}
