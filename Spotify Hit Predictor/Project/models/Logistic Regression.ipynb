{
 "cells": [
  {
   "cell_type": "code",
   "execution_count": 45,
   "id": "4e8860fd-5207-425f-900d-f681a25005b2",
   "metadata": {
    "tags": []
   },
   "outputs": [],
   "source": [
    "import pandas as pd\n",
    "import numpy as np \n",
    "import matplotlib.pyplot as plt\n",
    "\n",
    "from sklearn.model_selection import train_test_split\n",
    "from sklearn.linear_model import LogisticRegression\n",
    "from sklearn.model_selection import GridSearchCV\n",
    "from sklearn.metrics import confusion_matrix, plot_confusion_matrix, accuracy_score, f1_score\n",
    "from sklearn.preprocessing import StandardScaler"
   ]
  },
  {
   "cell_type": "markdown",
   "id": "adcd79c2-6e8e-4836-b7c8-287f6f89b73b",
   "metadata": {},
   "source": [
    "## Read in Data"
   ]
  },
  {
   "cell_type": "code",
   "execution_count": 31,
   "id": "b87d2919-37a0-482b-a349-21bbf4afb8ee",
   "metadata": {},
   "outputs": [],
   "source": [
    "df = pd.read_csv('./data/final.csv')"
   ]
  },
  {
   "cell_type": "code",
   "execution_count": 32,
   "id": "a4097013-29ab-4729-b22f-b478c40d3733",
   "metadata": {},
   "outputs": [
    {
     "data": {
      "text/html": [
       "<div>\n",
       "<style scoped>\n",
       "    .dataframe tbody tr th:only-of-type {\n",
       "        vertical-align: middle;\n",
       "    }\n",
       "\n",
       "    .dataframe tbody tr th {\n",
       "        vertical-align: top;\n",
       "    }\n",
       "\n",
       "    .dataframe thead th {\n",
       "        text-align: right;\n",
       "    }\n",
       "</style>\n",
       "<table border=\"1\" class=\"dataframe\">\n",
       "  <thead>\n",
       "    <tr style=\"text-align: right;\">\n",
       "      <th></th>\n",
       "      <th>track</th>\n",
       "      <th>artist</th>\n",
       "      <th>uri</th>\n",
       "      <th>danceability</th>\n",
       "      <th>energy</th>\n",
       "      <th>key</th>\n",
       "      <th>loudness</th>\n",
       "      <th>mode</th>\n",
       "      <th>speechiness</th>\n",
       "      <th>acousticness</th>\n",
       "      <th>instrumentalness</th>\n",
       "      <th>liveness</th>\n",
       "      <th>valence</th>\n",
       "      <th>tempo</th>\n",
       "      <th>duration_ms</th>\n",
       "      <th>time_signature</th>\n",
       "      <th>chorus_hit</th>\n",
       "      <th>sections</th>\n",
       "      <th>target</th>\n",
       "      <th>Year</th>\n",
       "    </tr>\n",
       "  </thead>\n",
       "  <tbody>\n",
       "    <tr>\n",
       "      <th>0</th>\n",
       "      <td>Misty Roses</td>\n",
       "      <td>Astrud Gilberto</td>\n",
       "      <td>spotify:track:50RBM1j1Dw7WYmsGsWg9Tm</td>\n",
       "      <td>0.527</td>\n",
       "      <td>0.316</td>\n",
       "      <td>1</td>\n",
       "      <td>-15.769</td>\n",
       "      <td>1</td>\n",
       "      <td>0.0310</td>\n",
       "      <td>0.693000</td>\n",
       "      <td>0.00699</td>\n",
       "      <td>0.1680</td>\n",
       "      <td>0.543</td>\n",
       "      <td>116.211</td>\n",
       "      <td>158840</td>\n",
       "      <td>4</td>\n",
       "      <td>53.89523</td>\n",
       "      <td>6</td>\n",
       "      <td>0</td>\n",
       "      <td>1990.0</td>\n",
       "    </tr>\n",
       "    <tr>\n",
       "      <th>1</th>\n",
       "      <td>Never Ever</td>\n",
       "      <td>All Saints</td>\n",
       "      <td>spotify:track:5FTz9qQ94PyUHETyAyfYZN</td>\n",
       "      <td>0.738</td>\n",
       "      <td>0.541</td>\n",
       "      <td>1</td>\n",
       "      <td>-5.485</td>\n",
       "      <td>1</td>\n",
       "      <td>0.0311</td>\n",
       "      <td>0.559000</td>\n",
       "      <td>0.00000</td>\n",
       "      <td>0.0492</td>\n",
       "      <td>0.309</td>\n",
       "      <td>134.187</td>\n",
       "      <td>387573</td>\n",
       "      <td>4</td>\n",
       "      <td>32.16853</td>\n",
       "      <td>16</td>\n",
       "      <td>1</td>\n",
       "      <td>1990.0</td>\n",
       "    </tr>\n",
       "    <tr>\n",
       "      <th>2</th>\n",
       "      <td>Soul Sermon</td>\n",
       "      <td>Gregg Karukas</td>\n",
       "      <td>spotify:track:6m24oe3lk1UMxq9zq4iPFi</td>\n",
       "      <td>0.736</td>\n",
       "      <td>0.419</td>\n",
       "      <td>0</td>\n",
       "      <td>-10.662</td>\n",
       "      <td>1</td>\n",
       "      <td>0.0300</td>\n",
       "      <td>0.693000</td>\n",
       "      <td>0.49500</td>\n",
       "      <td>0.0809</td>\n",
       "      <td>0.265</td>\n",
       "      <td>93.982</td>\n",
       "      <td>237267</td>\n",
       "      <td>4</td>\n",
       "      <td>42.05369</td>\n",
       "      <td>9</td>\n",
       "      <td>0</td>\n",
       "      <td>1990.0</td>\n",
       "    </tr>\n",
       "    <tr>\n",
       "      <th>3</th>\n",
       "      <td>Clarinet Marmalade - Live</td>\n",
       "      <td>Alton Purnell</td>\n",
       "      <td>spotify:track:5FOXuiLI6knVtgMUjWKj6x</td>\n",
       "      <td>0.565</td>\n",
       "      <td>0.594</td>\n",
       "      <td>5</td>\n",
       "      <td>-13.086</td>\n",
       "      <td>1</td>\n",
       "      <td>0.0646</td>\n",
       "      <td>0.655000</td>\n",
       "      <td>0.92600</td>\n",
       "      <td>0.6750</td>\n",
       "      <td>0.763</td>\n",
       "      <td>114.219</td>\n",
       "      <td>375933</td>\n",
       "      <td>4</td>\n",
       "      <td>80.99693</td>\n",
       "      <td>10</td>\n",
       "      <td>0</td>\n",
       "      <td>1990.0</td>\n",
       "    </tr>\n",
       "    <tr>\n",
       "      <th>4</th>\n",
       "      <td>До смерті і довше - Drum &amp; Base and Rock Remix</td>\n",
       "      <td>Skryabin</td>\n",
       "      <td>spotify:track:6CxyIPTqSPvAPXfrIZczs4</td>\n",
       "      <td>0.513</td>\n",
       "      <td>0.760</td>\n",
       "      <td>4</td>\n",
       "      <td>-10.077</td>\n",
       "      <td>1</td>\n",
       "      <td>0.0355</td>\n",
       "      <td>0.000017</td>\n",
       "      <td>0.00339</td>\n",
       "      <td>0.1530</td>\n",
       "      <td>0.961</td>\n",
       "      <td>153.166</td>\n",
       "      <td>430653</td>\n",
       "      <td>4</td>\n",
       "      <td>25.57331</td>\n",
       "      <td>20</td>\n",
       "      <td>0</td>\n",
       "      <td>1990.0</td>\n",
       "    </tr>\n",
       "  </tbody>\n",
       "</table>\n",
       "</div>"
      ],
      "text/plain": [
       "                                            track           artist  \\\n",
       "0                                     Misty Roses  Astrud Gilberto   \n",
       "1                                      Never Ever       All Saints   \n",
       "2                                     Soul Sermon    Gregg Karukas   \n",
       "3                       Clarinet Marmalade - Live    Alton Purnell   \n",
       "4  До смерті і довше - Drum & Base and Rock Remix         Skryabin   \n",
       "\n",
       "                                    uri  danceability  energy  key  loudness  \\\n",
       "0  spotify:track:50RBM1j1Dw7WYmsGsWg9Tm         0.527   0.316    1   -15.769   \n",
       "1  spotify:track:5FTz9qQ94PyUHETyAyfYZN         0.738   0.541    1    -5.485   \n",
       "2  spotify:track:6m24oe3lk1UMxq9zq4iPFi         0.736   0.419    0   -10.662   \n",
       "3  spotify:track:5FOXuiLI6knVtgMUjWKj6x         0.565   0.594    5   -13.086   \n",
       "4  spotify:track:6CxyIPTqSPvAPXfrIZczs4         0.513   0.760    4   -10.077   \n",
       "\n",
       "   mode  speechiness  acousticness  instrumentalness  liveness  valence  \\\n",
       "0     1       0.0310      0.693000           0.00699    0.1680    0.543   \n",
       "1     1       0.0311      0.559000           0.00000    0.0492    0.309   \n",
       "2     1       0.0300      0.693000           0.49500    0.0809    0.265   \n",
       "3     1       0.0646      0.655000           0.92600    0.6750    0.763   \n",
       "4     1       0.0355      0.000017           0.00339    0.1530    0.961   \n",
       "\n",
       "     tempo  duration_ms  time_signature  chorus_hit  sections  target    Year  \n",
       "0  116.211       158840               4    53.89523         6       0  1990.0  \n",
       "1  134.187       387573               4    32.16853        16       1  1990.0  \n",
       "2   93.982       237267               4    42.05369         9       0  1990.0  \n",
       "3  114.219       375933               4    80.99693        10       0  1990.0  \n",
       "4  153.166       430653               4    25.57331        20       0  1990.0  "
      ]
     },
     "execution_count": 32,
     "metadata": {},
     "output_type": "execute_result"
    }
   ],
   "source": [
    "df.head()"
   ]
  },
  {
   "cell_type": "markdown",
   "id": "fb68da71-0dae-4af8-bd1f-3cc308a0422b",
   "metadata": {},
   "source": [
    "## Train-Test-Split"
   ]
  },
  {
   "cell_type": "code",
   "execution_count": 33,
   "id": "bd137862-bf7e-4fda-a125-e6ac481124ec",
   "metadata": {},
   "outputs": [],
   "source": [
    "X = df.drop(columns = ['track', 'artist', 'uri', 'target'])\n",
    "y = df['target']"
   ]
  },
  {
   "cell_type": "code",
   "execution_count": 34,
   "id": "a23be0c4-0acc-46da-9928-2d4c27289ee8",
   "metadata": {},
   "outputs": [],
   "source": [
    "X_train, X_test, y_train, y_test = train_test_split(X, y, test_size=0.2, random_state=42)"
   ]
  },
  {
   "cell_type": "markdown",
   "id": "4f04bc6d-e944-4c26-8c4e-7a4c60548015",
   "metadata": {},
   "source": [
    "## Baseline"
   ]
  },
  {
   "cell_type": "code",
   "execution_count": 35,
   "id": "99af6c61-6253-421f-9e48-f156369dda39",
   "metadata": {},
   "outputs": [
    {
     "data": {
      "text/plain": [
       "0    0.5\n",
       "1    0.5\n",
       "Name: target, dtype: float64"
      ]
     },
     "execution_count": 35,
     "metadata": {},
     "output_type": "execute_result"
    }
   ],
   "source": [
    "y.value_counts(normalize = True)"
   ]
  },
  {
   "cell_type": "markdown",
   "id": "5b320ced-7c23-4e92-81cd-644743fc000c",
   "metadata": {},
   "source": [
    "## Model 1: Simple Logistic Regression"
   ]
  },
  {
   "cell_type": "code",
   "execution_count": 36,
   "id": "0eba1ef9-2601-430f-84cf-6fb495dc3145",
   "metadata": {},
   "outputs": [],
   "source": [
    "lr = LogisticRegression()"
   ]
  },
  {
   "cell_type": "code",
   "execution_count": 37,
   "id": "2ad71b47-49ea-4d8c-9c44-01f89577ae4e",
   "metadata": {},
   "outputs": [
    {
     "data": {
      "text/plain": [
       "LogisticRegression()"
      ]
     },
     "execution_count": 37,
     "metadata": {},
     "output_type": "execute_result"
    }
   ],
   "source": [
    "lr.fit(X_train, y_train)"
   ]
  },
  {
   "cell_type": "code",
   "execution_count": 38,
   "id": "f838b47e-fd22-46cb-aaab-bd6c684e7b28",
   "metadata": {},
   "outputs": [
    {
     "name": "stdout",
     "output_type": "stream",
     "text": [
      "Accuracy: 0.5447579664315252\n"
     ]
    }
   ],
   "source": [
    "pred = lr.predict(X_test)\n",
    "accuracy = accuracy_score(y_test, pred)\n",
    "print(\"Accuracy:\", accuracy)"
   ]
  },
  {
   "cell_type": "markdown",
   "id": "d760c40d-2321-4008-af80-3574aaabb9a4",
   "metadata": {
    "tags": []
   },
   "source": [
    "## Model 2: Simple Logstic Regression + Standard Scaling"
   ]
  },
  {
   "cell_type": "code",
   "execution_count": 39,
   "id": "99a25e2c-539e-4c6b-bd1b-6ca984fd126b",
   "metadata": {},
   "outputs": [],
   "source": [
    "lr = LogisticRegression()"
   ]
  },
  {
   "cell_type": "code",
   "execution_count": 40,
   "id": "31fe6cd4-d111-4d8f-83cc-46ff101f0032",
   "metadata": {},
   "outputs": [],
   "source": [
    "# Create a StandardScaler object\n",
    "sc = StandardScaler()\n",
    "\n",
    "# Standardize the training and test data\n",
    "X_train_sc = sc.fit_transform(X_train)\n",
    "X_test_sc = sc.transform(X_test)"
   ]
  },
  {
   "cell_type": "code",
   "execution_count": 41,
   "id": "781005bb-3ecd-469b-91ee-09acc304b3a3",
   "metadata": {},
   "outputs": [
    {
     "data": {
      "text/plain": [
       "LogisticRegression()"
      ]
     },
     "execution_count": 41,
     "metadata": {},
     "output_type": "execute_result"
    }
   ],
   "source": [
    "lr.fit(X_train_sc, y_train)"
   ]
  },
  {
   "cell_type": "code",
   "execution_count": 47,
   "id": "1c39434c-04d8-485c-9c49-54e483e3e806",
   "metadata": {},
   "outputs": [],
   "source": [
    "pred = lr.predict(X_test_sc)\n",
    "tn, fp, fn, tp = confusion_matrix(y_test, pred).ravel()"
   ]
  },
  {
   "cell_type": "code",
   "execution_count": 48,
   "id": "4b44ed63-3856-43c5-abfe-6fda2227d542",
   "metadata": {},
   "outputs": [
    {
     "name": "stderr",
     "output_type": "stream",
     "text": [
      "/Users/pomi/opt/anaconda3/lib/python3.9/site-packages/sklearn/utils/deprecation.py:87: FutureWarning: Function plot_confusion_matrix is deprecated; Function `plot_confusion_matrix` is deprecated in 1.0 and will be removed in 1.2. Use one of the class methods: ConfusionMatrixDisplay.from_predictions or ConfusionMatrixDisplay.from_estimator.\n",
      "  warnings.warn(msg, category=FutureWarning)\n",
      "/Users/pomi/opt/anaconda3/lib/python3.9/site-packages/sklearn/base.py:443: UserWarning: X has feature names, but LogisticRegression was fitted without feature names\n",
      "  warnings.warn(\n"
     ]
    },
    {
     "data": {
      "image/png": "[encoded data removed]",
      "text/plain": [
       "<Figure size 640x480 with 2 Axes>"
      ]
     },
     "metadata": {},
     "output_type": "display_data"
    }
   ],
   "source": [
    "plot_confusion_matrix(lr, X_test, y_test, cmap='Blues', values_format='d');"
   ]
  },
  {
   "cell_type": "code",
   "execution_count": 49,
   "id": "aa4c5934-342d-4cd4-b7ad-66a1f3e15217",
   "metadata": {
    "tags": []
   },
   "outputs": [
    {
     "name": "stdout",
     "output_type": "stream",
     "text": [
      "Specificity: 0.6558206796818511\n"
     ]
    }
   ],
   "source": [
    "spec = tn/ (tn+fp)\n",
    "print(f'Specificity: {spec}')"
   ]
  },
  {
   "cell_type": "code",
   "execution_count": 51,
   "id": "13c4508f-63ba-4c91-8c8b-af7e13972fda",
   "metadata": {},
   "outputs": [
    {
     "name": "stdout",
     "output_type": "stream",
     "text": [
      "Accuray: 0.7419119435660423\n",
      "F1 Score: 0.7610360360360361\n"
     ]
    }
   ],
   "source": [
    "accuracy = (tp + tn) / (tp + fp + fn + tn)\n",
    "print(f'Accuray: {accuracy}')\n",
    "\n",
    "f1 = f1_score(y_test, pred)\n",
    "print(f'F1 Score: {f1}')"
   ]
  },
  {
   "cell_type": "markdown",
   "id": "59874c01-6d26-45cf-a0db-1decc200247d",
   "metadata": {},
   "source": [
    "## Model 2: GridSearched Logistic Regression"
   ]
  },
  {
   "cell_type": "code",
   "execution_count": 56,
   "id": "056ee376-9b64-4be4-afc0-5d8a2e0fe0f5",
   "metadata": {},
   "outputs": [],
   "source": [
    "lr = LogisticRegression()"
   ]
  },
  {
   "cell_type": "code",
   "execution_count": 57,
   "id": "3ee274df-f833-49b5-8d8e-b7ffb95e700c",
   "metadata": {},
   "outputs": [],
   "source": [
    "# Create a StandardScaler object\n",
    "sc = StandardScaler()\n",
    "\n",
    "# Standardize the training and test data\n",
    "X_train_sc = sc.fit_transform(X_train)\n",
    "X_test_sc = sc.transform(X_test)"
   ]
  },
  {
   "cell_type": "code",
   "execution_count": 58,
   "id": "aa735327-9a65-4c28-b3b7-55f20e5ec158",
   "metadata": {},
   "outputs": [],
   "source": [
    "params = {\n",
    "    'penalty': ['l1', 'l2'],\n",
    "    'C': [0.1, 1, 10],\n",
    "    'solver': ['liblinear', 'saga']\n",
    "}\n"
   ]
  },
  {
   "cell_type": "code",
   "execution_count": 59,
   "id": "6c2483f2-6b0b-40aa-94ed-996c047f7047",
   "metadata": {},
   "outputs": [],
   "source": [
    "clf = GridSearchCV(lr, params, cv =5)"
   ]
  },
  {
   "cell_type": "code",
   "execution_count": 60,
   "id": "2be3a61c-8a3f-4969-89f3-868469cb2fa4",
   "metadata": {},
   "outputs": [
    {
     "data": {
      "text/plain": [
       "GridSearchCV(cv=5, estimator=LogisticRegression(),\n",
       "             param_grid={'C': [0.1, 1, 10], 'penalty': ['l1', 'l2'],\n",
       "                         'solver': ['liblinear', 'saga']})"
      ]
     },
     "execution_count": 60,
     "metadata": {},
     "output_type": "execute_result"
    }
   ],
   "source": [
    "clf.fit(X_train_sc, y_train)"
   ]
  },
  {
   "cell_type": "code",
   "execution_count": 61,
   "id": "fe1568c5-4b3a-47fe-95db-0539420407a1",
   "metadata": {},
   "outputs": [
    {
     "name": "stdout",
     "output_type": "stream",
     "text": [
      "Best hyperparameters: {'C': 1, 'penalty': 'l1', 'solver': 'liblinear'}\n",
      "Best score: 0.7402993436908906\n"
     ]
    }
   ],
   "source": [
    "print('Best hyperparameters:', clf.best_params_)\n",
    "print('Best score:', clf.best_score_)"
   ]
  },
  {
   "cell_type": "code",
   "execution_count": 62,
   "id": "6c4a3cad-5f9a-453a-b974-da5470baff76",
   "metadata": {},
   "outputs": [],
   "source": [
    "clf = GridSearchCV(lr, {'penalty': ['l1'], 'C': [1], 'solver': ['liblinear']}, cv=5)"
   ]
  },
  {
   "cell_type": "code",
   "execution_count": 63,
   "id": "e74bac62-054d-483e-9c05-d1f637215da2",
   "metadata": {},
   "outputs": [
    {
     "data": {
      "text/plain": [
       "GridSearchCV(cv=5, estimator=LogisticRegression(),\n",
       "             param_grid={'C': [1], 'penalty': ['l1'], 'solver': ['liblinear']})"
      ]
     },
     "execution_count": 63,
     "metadata": {},
     "output_type": "execute_result"
    }
   ],
   "source": [
    "clf.fit(X_train_sc, y_train)"
   ]
  },
  {
   "cell_type": "code",
   "execution_count": 67,
   "id": "33d108c8-724b-4457-aeda-c99c981d517d",
   "metadata": {},
   "outputs": [
    {
     "name": "stderr",
     "output_type": "stream",
     "text": [
      "/Users/pomi/opt/anaconda3/lib/python3.9/site-packages/sklearn/utils/deprecation.py:87: FutureWarning: Function plot_confusion_matrix is deprecated; Function `plot_confusion_matrix` is deprecated in 1.0 and will be removed in 1.2. Use one of the class methods: ConfusionMatrixDisplay.from_predictions or ConfusionMatrixDisplay.from_estimator.\n",
      "  warnings.warn(msg, category=FutureWarning)\n",
      "/Users/pomi/opt/anaconda3/lib/python3.9/site-packages/sklearn/base.py:443: UserWarning: X has feature names, but LogisticRegression was fitted without feature names\n",
      "  warnings.warn(\n"
     ]
    },
    {
     "data": {
      "image/png": "[encoded data removed]",
      "text/plain": [
       "<Figure size 640x480 with 2 Axes>"
      ]
     },
     "metadata": {},
     "output_type": "display_data"
    }
   ],
   "source": [
    "pred = clf.predict(X_test_sc)\n",
    "tn, fp, fn, tp = confusion_matrix(y_test, pred).ravel()\n",
    "plot_confusion_matrix(clf, X_test, y_test, cmap='Blues', values_format='d');"
   ]
  },
  {
   "cell_type": "code",
   "execution_count": 68,
   "id": "f53dad8b-0b1a-4fed-9b58-89412258c41b",
   "metadata": {},
   "outputs": [
    {
     "name": "stdout",
     "output_type": "stream",
     "text": [
      "Accuray: 0.741790318657261\n",
      "F1 Score: 0.7608964973533056\n"
     ]
    }
   ],
   "source": [
    "accuracy = (tp + tn) / (tp + fp + fn + tn)\n",
    "print(f'Accuray: {accuracy}')\n",
    "\n",
    "f1 = f1_score(y_test, pred)\n",
    "print(f'F1 Score: {f1}')"
   ]
  },
  {
   "cell_type": "markdown",
   "id": "c4f6f20d-71f1-4147-a1ac-83391517d756",
   "metadata": {},
   "source": [
    "This accuracy score is higher than baseline at 74%."
   ]
  }
 ],
 "metadata": {
  "kernelspec": {
   "display_name": "Python 3 (ipykernel)",
   "language": "python",
   "name": "python3"
  },
  "language_info": {
   "codemirror_mode": {
    "name": "ipython",
    "version": 3
   },
   "file_extension": ".py",
   "mimetype": "text/x-python",
   "name": "python",
   "nbconvert_exporter": "python",
   "pygments_lexer": "ipython3",
   "version": "3.9.13"
  }
 },
 "nbformat": 4,
 "nbformat_minor": 5
}
